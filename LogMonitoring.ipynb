{
 "cells": [
  {
   "cell_type": "code",
   "execution_count": 2,
   "id": "52acc967",
   "metadata": {},
   "outputs": [
    {
     "name": "stdout",
     "output_type": "stream",
     "text": [
      "Scanning 127.0.0.1...\n",
      "Port 21 CLOSED\n",
      "Port 22 CLOSED\n",
      "Port 80 CLOSED\n",
      "Port 443 CLOSED\n",
      "Port 3306 CLOSED\n"
     ]
    }
   ],
   "source": [
    "import socket\n",
    "\n",
    "def scan_ports(host, ports):\n",
    "    print(f\"Scanning {host}...\")\n",
    "    for port in ports:\n",
    "        sock = socket.socket(socket.AF_INET, socket.SOCK_STREAM)\n",
    "        sock.settimeout(1)\n",
    "        result = sock.connect_ex((host, port))\n",
    "        if result == 0:\n",
    "            print(f\"Port {port} OPEN\")\n",
    "        else:\n",
    "            print(f\"Port {port} CLOSED\")\n",
    "        sock.close()\n",
    "\n",
    "scan_ports(\"127.0.0.1\", [21, 22, 80, 443, 3306])\n"
   ]
  }
 ],
 "metadata": {
  "kernelspec": {
   "display_name": "base",
   "language": "python",
   "name": "python3"
  },
  "language_info": {
   "codemirror_mode": {
    "name": "ipython",
    "version": 3
   },
   "file_extension": ".py",
   "mimetype": "text/x-python",
   "name": "python",
   "nbconvert_exporter": "python",
   "pygments_lexer": "ipython3",
   "version": "3.12.4"
  }
 },
 "nbformat": 4,
 "nbformat_minor": 5
}
